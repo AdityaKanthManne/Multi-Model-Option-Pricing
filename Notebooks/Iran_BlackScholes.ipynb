{
 "cells": [
  {
   "cell_type": "code",
   "execution_count": null,
   "id": "initial_id",
   "metadata": {
    "collapsed": true
   },
   "outputs": [],
   "source": [
    "# Iran Black-Scholes Pricing on Brent Crude Options (BZ=F)\n",
    "\n",
    "import pandas as pd\n",
    "import numpy as np\n",
    "from scipy.stats import norm\n",
    "import matplotlib.pyplot as plt\n",
    "from datetime import datetime\n",
    "\n",
    "# Load Brent options data\n",
    "df = pd.read_csv(\"../data/brent_options_data.csv\")\n",
    "df = df.dropna(subset=[\"impliedVolatility\"])\n",
    "\n",
    "# Filter: out-of-the-money call options\n",
    "df = df[(df[\"inTheMoney\"] == False) & (df[\"strike\"] > 75)]\n",
    "df = df.head(50).copy()\n",
    "\n",
    "# Assume Brent current price manually (or pull live via yfinance)\n",
    "S = 83.0  # Example value\n",
    "r = 0.05  # Annual risk-free rate\n",
    "\n",
    "# Calculate time to expiration in years\n",
    "def get_T(expiration_date):\n",
    "    exp_date = datetime.strptime(expiration_date, \"%Y-%m-%d\")\n",
    "    delta = (exp_date - datetime.today()).days\n",
    "    return max(delta / 365, 1 / 365)\n",
    "\n",
    "df[\"T\"] = df[\"expirationDate\"].apply(get_T)\n",
    "\n",
    "# Black-Scholes model\n",
    "def black_scholes(S, K, T, r, sigma, option_type=\"call\"):\n",
    "    d1 = (np.log(S / K) + (r + 0.5 * sigma ** 2) * T) / (sigma * np.sqrt(T))\n",
    "    d2 = d1 - sigma * np.sqrt(T)\n",
    "    if option_type == \"call\":\n",
    "        return S * norm.cdf(d1) - K * np.exp(-r * T) * norm.cdf(d2)\n",
    "    elif option_type == \"put\":\n",
    "        return K * np.exp(-r * T) * norm.cdf(-d2) - S * norm.cdf(-d1)\n",
    "    else:\n",
    "        raise ValueError(\"option_type must be 'call' or 'put'\")\n",
    "\n",
    "# Compute Black-Scholes prices\n",
    "df[\"bs_price\"] = df.apply(\n",
    "    lambda row: black_scholes(S, row[\"strike\"], row[\"T\"], r, row[\"impliedVolatility\"]),\n",
    "    axis=1\n",
    ")\n",
    "\n",
    "# Calculate error vs. market price\n",
    "df[\"abs_error\"] = np.abs(df[\"bs_price\"] - df[\"lastPrice\"])\n",
    "\n",
    "# Plot results\n",
    "plt.figure(figsize=(10, 6))\n",
    "plt.plot(df[\"strike\"], df[\"bs_price\"], label=\"Black-Scholes Price\", color=\"darkred\")\n",
    "plt.scatter(df[\"strike\"], df[\"lastPrice\"], label=\"Market Price\", color=\"black\")\n",
    "plt.xlabel(\"Strike Price\")\n",
    "plt.ylabel(\"Option Price\")\n",
    "plt.title(\"Brent Crude: Market vs. Black-Scholes Option Pricing (Iran Proxy)\")\n",
    "plt.legend()\n",
    "plt.grid(True)\n",
    "plt.tight_layout()\n",
    "plt.show()\n",
    "\n",
    "# Display table\n",
    "print(df[[\"strike\", \"lastPrice\", \"bs_price\", \"abs_error\"]].head(10))\n"
   ]
  }
 ],
 "metadata": {
  "kernelspec": {
   "display_name": "Python 3",
   "language": "python",
   "name": "python3"
  },
  "language_info": {
   "codemirror_mode": {
    "name": "ipython",
    "version": 2
   },
   "file_extension": ".py",
   "mimetype": "text/x-python",
   "name": "python",
   "nbconvert_exporter": "python",
   "pygments_lexer": "ipython2",
   "version": "2.7.6"
  }
 },
 "nbformat": 4,
 "nbformat_minor": 5
}
